{
  "nbformat": 4,
  "nbformat_minor": 0,
  "metadata": {
    "colab": {
      "provenance": [],
      "authorship_tag": "ABX9TyN4KHqCSaFx3d707PSoK8t9",
      "include_colab_link": true
    },
    "kernelspec": {
      "name": "python3",
      "display_name": "Python 3"
    },
    "language_info": {
      "name": "python"
    }
  },
  "cells": [
    {
      "cell_type": "markdown",
      "metadata": {
        "id": "view-in-github",
        "colab_type": "text"
      },
      "source": [
        "<a href=\"https://colab.research.google.com/github/Cubit0-de-hielo/cubito/blob/main/clase_8.ipynb\" target=\"_parent\"><img src=\"https://colab.research.google.com/assets/colab-badge.svg\" alt=\"Open In Colab\"/></a>"
      ]
    },
    {
      "cell_type": "code",
      "execution_count": null,
      "metadata": {
        "colab": {
          "base_uri": "https://localhost:8080/"
        },
        "id": "qxnycMLqwbS7",
        "outputId": "34cd3aee-32d8-42b1-cfc6-898a710493fa"
      },
      "outputs": [
        {
          "output_type": "stream",
          "name": "stdout",
          "text": [
            "8\n"
          ]
        }
      ],
      "source": [
        "import random\n",
        "\n",
        "print(random.randint(3, 9))"
      ]
    },
    {
      "cell_type": "code",
      "source": [
        "import random\n",
        "\n",
        "mylist = [\"apple\", \"banana\", \"cherry\"]\n",
        "\n",
        "print(random.choice(mylist))"
      ],
      "metadata": {
        "colab": {
          "base_uri": "https://localhost:8080/"
        },
        "id": "kAu-uVUL1DMs",
        "outputId": "4099caf3-146b-4fda-fddd-f6221b693e2a"
      },
      "execution_count": null,
      "outputs": [
        {
          "output_type": "stream",
          "name": "stdout",
          "text": [
            "apple\n"
          ]
        }
      ]
    },
    {
      "cell_type": "code",
      "source": [
        "A=[[1,2,3],[4,5,6],[7,8,9]]\n",
        "for i in range(len(A)):\n",
        " for j in range(len(A)):\n",
        "      print(A[i][j])"
      ],
      "metadata": {
        "id": "ea0DGeG21jzs",
        "colab": {
          "base_uri": "https://localhost:8080/"
        },
        "outputId": "4045a389-281a-4a09-ca3f-81a8bdc00e75"
      },
      "execution_count": null,
      "outputs": [
        {
          "output_type": "stream",
          "name": "stdout",
          "text": [
            "1\n",
            "2\n",
            "3\n",
            "4\n",
            "5\n",
            "6\n",
            "7\n",
            "8\n",
            "9\n"
          ]
        }
      ]
    },
    {
      "cell_type": "code",
      "source": [
        "A=[[1,2,3],[4,5,6],[7,8,9]]\n",
        "for j in range(len(A)):\n",
        "  print(A[0][j])\n",
        "  print(A[1][j])\n",
        "  print(A[2][j])"
      ],
      "metadata": {
        "id": "cSICuNTU1j0d",
        "colab": {
          "base_uri": "https://localhost:8080/"
        },
        "outputId": "ba2500ac-696e-47c0-c00f-a275c48a9cab"
      },
      "execution_count": null,
      "outputs": [
        {
          "output_type": "stream",
          "name": "stdout",
          "text": [
            "1\n",
            "4\n",
            "7\n",
            "2\n",
            "5\n",
            "8\n",
            "3\n",
            "6\n",
            "9\n"
          ]
        }
      ]
    },
    {
      "cell_type": "code",
      "source": [
        "A=[[1,2,3],[4,5,6],[7,8,9]]\n",
        "B=[[10,11,12],[13,14,15],[16,17,18]]\n",
        "for i in range(len(A)):\n",
        " for j in range(len(A)):\n",
        "  print(A[i][j]+B[i][j])"
      ],
      "metadata": {
        "colab": {
          "base_uri": "https://localhost:8080/"
        },
        "id": "VPYplAjn9teH",
        "outputId": "803a5e38-787b-4bb6-f4a9-5d48f1f55a6d"
      },
      "execution_count": null,
      "outputs": [
        {
          "output_type": "stream",
          "name": "stdout",
          "text": [
            "11\n",
            "13\n",
            "15\n",
            "17\n",
            "19\n",
            "21\n",
            "23\n",
            "25\n",
            "27\n"
          ]
        }
      ]
    },
    {
      "cell_type": "code",
      "source": [
        "A=[5,3,1]\n",
        "5>3\n",
        "A=[3,5,1]\n",
        "1>5\n",
        "A=[3,1,5]\n",
        "1>5\n",
        "A=[1,3,5]\n",
        "print(A)"
      ],
      "metadata": {
        "colab": {
          "base_uri": "https://localhost:8080/"
        },
        "id": "97d-pSRsApG-",
        "outputId": "447d0997-9c8a-4fa4-d74b-15118f6120b5"
      },
      "execution_count": null,
      "outputs": [
        {
          "output_type": "stream",
          "name": "stdout",
          "text": [
            "[1, 3, 5]\n"
          ]
        }
      ]
    },
    {
      "cell_type": "code",
      "source": [
        "A=[5,2,9,6,7,4,10]\n",
        "n=len(A)\n",
        "for i in range(n-1):\n",
        " if A[i]>A[i*1]:\n",
        "  print(A)\n",
        "  aux=A[i+1]\n",
        "  A[i+1]=A[i]\n",
        "  A[i]=aux\n",
        "  print(A)"
      ],
      "metadata": {
        "id": "qY6FZZXPDsuK"
      },
      "execution_count": 1,
      "outputs": []
    }
  ]
}