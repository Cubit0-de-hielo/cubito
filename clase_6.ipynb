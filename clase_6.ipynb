{
  "nbformat": 4,
  "nbformat_minor": 0,
  "metadata": {
    "colab": {
      "provenance": [],
      "authorship_tag": "ABX9TyMpNLkO5RcbvZIo5l2Yia3z",
      "include_colab_link": true
    },
    "kernelspec": {
      "name": "python3",
      "display_name": "Python 3"
    },
    "language_info": {
      "name": "python"
    }
  },
  "cells": [
    {
      "cell_type": "markdown",
      "metadata": {
        "id": "view-in-github",
        "colab_type": "text"
      },
      "source": [
        "<a href=\"https://colab.research.google.com/github/Cubit0-de-hielo/cubito/blob/main/clase_6.ipynb\" target=\"_parent\"><img src=\"https://colab.research.google.com/assets/colab-badge.svg\" alt=\"Open In Colab\"/></a>"
      ]
    },
    {
      "cell_type": "code",
      "execution_count": null,
      "metadata": {
        "colab": {
          "base_uri": "https://localhost:8080/"
        },
        "id": "FUWmNTM_vYcN",
        "outputId": "7e5e5a6c-eb49-44aa-a69d-ea4b410d860f"
      },
      "outputs": [
        {
          "output_type": "stream",
          "name": "stdout",
          "text": [
            "{'brand': 'ford', 'model': 'mustang', 'year': 2020}\n"
          ]
        }
      ],
      "source": [
        "DIC = {\n",
        "    \"brand\": \"ford\",\n",
        "    \"model\" : \"mustang\",\n",
        "    \"year\" : 1996,\n",
        "    \"year\" : 2020\n",
        "}\n",
        "print(DIC)"
      ]
    },
    {
      "cell_type": "code",
      "source": [
        "diccionario = {\"python\": 2.7, \"zope\": 2.13, \"plone\": 5.7}\n",
        "\n",
        "l=[]\n",
        "for i in diccionario.keys():\n",
        "    l.append(diccionario[i])\n",
        "\n",
        "print(i)\n",
        "print(l)"
      ],
      "metadata": {
        "colab": {
          "base_uri": "https://localhost:8080/"
        },
        "id": "fjtOlk-FxGdX",
        "outputId": "5473b2ca-7877-45f0-d2da-856e8107e00c"
      },
      "execution_count": null,
      "outputs": [
        {
          "output_type": "stream",
          "name": "stdout",
          "text": [
            "plone\n",
            "[2.7, 2.13, 5.7]\n"
          ]
        }
      ]
    },
    {
      "cell_type": "code",
      "source": [
        "import pandas as pd\n",
        "\n",
        "datos = {\n",
        "    \"Nombre\": [\"Juan\", \"María\", \"Pedro\", \"Luisa\"],\n",
        "    \"Edad\": [25, 28, 22, 30],\n",
        "    \"Ciudad\": [\"Madrid\", \"Barcelona\", \"Valencia\", \"Sevilla\"]\n",
        "}\n",
        "dataframe = pd.DataFrame(datos)\n",
        "print(dataframe)"
      ],
      "metadata": {
        "colab": {
          "base_uri": "https://localhost:8080/"
        },
        "id": "ajcaOvn6xGeS",
        "outputId": "b45a7f57-5610-4615-c8e0-e659b30d08ad"
      },
      "execution_count": null,
      "outputs": [
        {
          "output_type": "stream",
          "name": "stdout",
          "text": [
            "  Nombre  Edad     Ciudad\n",
            "0   Juan    25     Madrid\n",
            "1  María    28  Barcelona\n",
            "2  Pedro    22   Valencia\n",
            "3  Luisa    30    Sevilla\n"
          ]
        }
      ]
    },
    {
      "cell_type": "code",
      "source": [
        "# Crear una tupla\n",
        "mi_tupla = (1, 2, 3, \"Hola\", True)\n",
        "print(mi_tupla)"
      ],
      "metadata": {
        "colab": {
          "base_uri": "https://localhost:8080/"
        },
        "id": "ixeELNnWz6DW",
        "outputId": "21537c28-7ef5-428e-a188-d31063f74c1c"
      },
      "execution_count": null,
      "outputs": [
        {
          "output_type": "stream",
          "name": "stdout",
          "text": [
            "(1, 2, 3, 'Hola', True)\n",
            "(1, 2, 3, 'Hola', True)\n"
          ]
        }
      ]
    },
    {
      "cell_type": "code",
      "source": [
        "# Acceder a elementos de la tupla por índice\n",
        "print(mi_tupla[0])  # Imprime: 1\n",
        "print(mi_tupla[3])  # Imprime: Hola\n"
      ],
      "metadata": {
        "colab": {
          "base_uri": "https://localhost:8080/"
        },
        "id": "QmYhTI1-z6Ea",
        "outputId": "066a584e-061d-48c9-b4f5-e121c515fa48"
      },
      "execution_count": null,
      "outputs": [
        {
          "output_type": "stream",
          "name": "stdout",
          "text": [
            "1\n",
            "Hola\n"
          ]
        }
      ]
    },
    {
      "cell_type": "code",
      "source": [
        "thistuple = (\"apple\", \"banana\", \"cherry\")\n",
        "print(len(thistuple))"
      ],
      "metadata": {
        "colab": {
          "base_uri": "https://localhost:8080/"
        },
        "id": "jYxwgLcC0ZcF",
        "outputId": "add47d1d-2653-41d3-877a-abbac3ca9c22"
      },
      "execution_count": null,
      "outputs": [
        {
          "output_type": "stream",
          "name": "stdout",
          "text": [
            "3\n"
          ]
        }
      ]
    },
    {
      "cell_type": "code",
      "source": [
        "frutas = (\"platano\", \"manzana\", \"platano\", \"fresa\", \"arandano\", \"naranja\")\n",
        "if \"manzana\" in frutas:\n",
        "  print(\"Esta mas valato que en corea\")"
      ],
      "metadata": {
        "colab": {
          "base_uri": "https://localhost:8080/"
        },
        "id": "UbtNgPpQ0Zc3",
        "outputId": "23096750-782c-4484-a14a-47b6acc7cc01"
      },
      "execution_count": null,
      "outputs": [
        {
          "output_type": "stream",
          "name": "stdout",
          "text": [
            "Esta mas valato que en corea\n"
          ]
        }
      ]
    },
    {
      "cell_type": "code",
      "source": [
        "def mi_funcion():\n",
        "  print(\"Hola, te saludo desde la función\")"
      ],
      "metadata": {
        "id": "NQkmx22g0Zdf"
      },
      "execution_count": null,
      "outputs": []
    },
    {
      "cell_type": "code",
      "source": [
        "mi_funcion()"
      ],
      "metadata": {
        "colab": {
          "base_uri": "https://localhost:8080/"
        },
        "id": "4Mu1h3xv23-P",
        "outputId": "894444a3-7417-494c-dd59-b12752c19db1"
      },
      "execution_count": null,
      "outputs": [
        {
          "output_type": "stream",
          "name": "stdout",
          "text": [
            "Hola, te saludo desde la función\n"
          ]
        }
      ]
    },
    {
      "cell_type": "code",
      "source": [
        "def mi_funcion_nueva(fname):\n",
        "    print(\"Hola \"+fname +\" te saludo desde la función\")\n",
        "mi_funcion_nueva(\"Cubio de hielo\")"
      ],
      "metadata": {
        "colab": {
          "base_uri": "https://localhost:8080/"
        },
        "id": "9eENh1WO23_B",
        "outputId": "b56086de-6b27-4ab3-f818-fed43bb28442"
      },
      "execution_count": null,
      "outputs": [
        {
          "output_type": "stream",
          "name": "stdout",
          "text": [
            "Hola Cubio de hielo te saludo desde la función\n"
          ]
        }
      ]
    },
    {
      "cell_type": "code",
      "source": [
        "def Nombre(fname,lname):\n",
        "    print(\"Hola \"+fname + \", \" + lname+ \" te saludo desde la función\")\n",
        "\n",
        "Nombre(\"Cubito de hielo\",\"Alonzo corazon de tigre\")\n"
      ],
      "metadata": {
        "colab": {
          "base_uri": "https://localhost:8080/"
        },
        "id": "CijhdcWS4Ikh",
        "outputId": "3a1e474d-be10-48c0-8fe0-fbf8e861c3a7"
      },
      "execution_count": null,
      "outputs": [
        {
          "output_type": "stream",
          "name": "stdout",
          "text": [
            "Hola Cubito de hielo, Alonzo corazon de tigre te saludo desde la función\n"
          ]
        }
      ]
    },
    {
      "cell_type": "code",
      "source": [
        "def mi_funcion(*kids):\n",
        "    print(\"El niño menor es \" + kids[2])\n",
        "\n",
        "mi_funcion(\"Emil\", \"Tobias\", \"Linus\", \"Hanna\")"
      ],
      "metadata": {
        "colab": {
          "base_uri": "https://localhost:8080/"
        },
        "id": "gtm1jptV4IlK",
        "outputId": "940be564-d48d-4ec8-e7f9-6fb276401138"
      },
      "execution_count": null,
      "outputs": [
        {
          "output_type": "stream",
          "name": "stdout",
          "text": [
            "El niño menor es Linus\n"
          ]
        }
      ]
    },
    {
      "cell_type": "code",
      "source": [
        "A=[1,2,3,4,5]\n",
        "B=[6,7,8,9,10]\n",
        "\n",
        "def sum_vec(A,B):\n",
        "\n",
        "  if len(A) == len(B):\n",
        "    n=len(A)\n",
        "    c=n*[0.0]\n",
        "    for i in range(n):\n",
        "     c[i]=A[i]+B[i]\n",
        "    print(c)\n",
        "  else:\n",
        "     print(\"no se sumar\")\n",
        "\n",
        "sum_vec(A,B)"
      ],
      "metadata": {
        "colab": {
          "base_uri": "https://localhost:8080/"
        },
        "id": "Jz1piZcz7C3K",
        "outputId": "98fd4728-1b48-453e-95e7-6baf6b124138"
      },
      "execution_count": 8,
      "outputs": [
        {
          "output_type": "stream",
          "name": "stdout",
          "text": [
            "[7, 9, 11, 13, 15]\n"
          ]
        }
      ]
    }
  ]
}