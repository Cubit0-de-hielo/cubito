{
  "nbformat": 4,
  "nbformat_minor": 0,
  "metadata": {
    "colab": {
      "provenance": [],
      "authorship_tag": "ABX9TyOChFlqLQLRiG9pN7jl/6yy",
      "include_colab_link": true
    },
    "kernelspec": {
      "name": "python3",
      "display_name": "Python 3"
    },
    "language_info": {
      "name": "python"
    }
  },
  "cells": [
    {
      "cell_type": "markdown",
      "metadata": {
        "id": "view-in-github",
        "colab_type": "text"
      },
      "source": [
        "<a href=\"https://colab.research.google.com/github/Cubit0-de-hielo/cubito/blob/main/Tarea_E.ipynb\" target=\"_parent\"><img src=\"https://colab.research.google.com/assets/colab-badge.svg\" alt=\"Open In Colab\"/></a>"
      ]
    },
    {
      "cell_type": "code",
      "source": [
        "import random\n",
        "import numpy as np\n",
        "import matplotlib.pyplot as plt"
      ],
      "metadata": {
        "id": "SHiARkGKuVPp"
      },
      "execution_count": null,
      "outputs": []
    },
    {
      "cell_type": "code",
      "execution_count": null,
      "metadata": {
        "colab": {
          "base_uri": "https://localhost:8080/"
        },
        "id": "1GgK627cp5rN",
        "outputId": "50dbfc85-15ed-4471-d8bd-a0d9ecc35e86"
      },
      "outputs": [
        {
          "output_type": "stream",
          "name": "stdout",
          "text": [
            "11\n",
            "13\n",
            "15\n",
            "17\n",
            "19\n",
            "21\n",
            "23\n",
            "25\n",
            "27\n"
          ]
        }
      ],
      "source": [
        "#1 Suma de matrices\n",
        "A=[[1,2,3],[4,5,6,],[7,8,9]]\n",
        "B=[[10,11,12],[13,14,15],[16,17,18]]\n",
        "for i in range(len(A)):\n",
        " for j in range(len(A)):\n",
        "  print(A[i][j]+B[i][j])"
      ]
    },
    {
      "cell_type": "code",
      "source": [
        "#2 El producto de matrices\n",
        "A=[[1,2,3],[4,5,6],[7,8,9]]\n",
        "B=[[10,11,12],[12,14,15],[16,17,18]]\n",
        "for i in range(len(A)):\n",
        " for j in range(len(A)):\n",
        "  print(A[i][j]*B[i][j])"
      ],
      "metadata": {
        "colab": {
          "base_uri": "https://localhost:8080/"
        },
        "id": "HdSbT5ZQDlgj",
        "outputId": "d199ebca-78a0-4572-bdf4-5e897059ced5"
      },
      "execution_count": null,
      "outputs": [
        {
          "output_type": "stream",
          "name": "stdout",
          "text": [
            "10\n",
            "22\n",
            "36\n",
            "48\n",
            "70\n",
            "90\n",
            "112\n",
            "136\n",
            "162\n"
          ]
        }
      ]
    },
    {
      "cell_type": "code",
      "source": [
        "#3 La traza de una matriz\n",
        "#la trza de una matriz es suma de todos los valores en la diagonal\n",
        "matriz = np.array([[1,2,3],[4,5,6],[7,8,9]])\n",
        "traza = np.trace(matriz)\n",
        "print(traza)"
      ],
      "metadata": {
        "colab": {
          "base_uri": "https://localhost:8080/"
        },
        "id": "g6F2eu9PqFtD",
        "outputId": "f78d6c87-588d-4767-f9f8-d7beebd62a16"
      },
      "execution_count": null,
      "outputs": [
        {
          "output_type": "stream",
          "name": "stdout",
          "text": [
            "15\n"
          ]
        }
      ]
    },
    {
      "cell_type": "code",
      "source": [
        "#4 Transpuesta\n",
        "a=[[1,2,3],[4,5,6],[7,8,9]]\n",
        "for i in range(len(a)):\n",
        "  for j in range(len(a)):\n",
        "   p=a[j][i]\n",
        "   u=a[i][j]\n",
        "   aux=p\n",
        "   p=u\n",
        "   u=aux\n",
        "   print(aux)"
      ],
      "metadata": {
        "id": "EwJplY7VDlqz",
        "colab": {
          "base_uri": "https://localhost:8080/"
        },
        "outputId": "e13be923-d3a7-4e47-d1d9-8173f01fe399"
      },
      "execution_count": null,
      "outputs": [
        {
          "output_type": "stream",
          "name": "stdout",
          "text": [
            "1\n",
            "4\n",
            "7\n",
            "2\n",
            "5\n",
            "8\n",
            "3\n",
            "6\n",
            "9\n"
          ]
        }
      ]
    },
    {
      "cell_type": "code",
      "source": [
        "#5 Maximo y minimo elemento de una matriz\n",
        "m=([1,5,29],[93,.5,4],[9,10,50])\n",
        "maximo = max(max(fila) for fila in m)\n",
        "minimo = min(min(fila) for fila in m)\n",
        "print(minimo)\n",
        "print(maximo)"
      ],
      "metadata": {
        "colab": {
          "base_uri": "https://localhost:8080/"
        },
        "id": "E13yqnrPqGFK",
        "outputId": "c83af935-3ae0-4fe4-9a07-72489a224ce9"
      },
      "execution_count": null,
      "outputs": [
        {
          "output_type": "stream",
          "name": "stdout",
          "text": [
            "0.5\n",
            "93\n"
          ]
        }
      ]
    },
    {
      "cell_type": "code",
      "source": [
        "#6 La suma de los cuadrados de cada entrada de la matriz\n",
        "a=[[1,2,3],[4,5,6],[7,8,9]]\n",
        "b=[[3,5,7],[2,8,1],[9,4,6]]\n",
        "for i in range(len(a)):\n",
        "  a1=(a[0][i]**2)\n",
        "  a2=(a[1][i]**2)\n",
        "  a3=(a[2][i]**2)\n",
        "\n",
        "  b1=(b[0][i]**2)\n",
        "  b2=(b[1][i]**2)\n",
        "  b3=(b[2][i]**2)\n",
        "\n",
        "  print(a1+b1)\n",
        "  print(a2+b2)\n",
        "  print(a3+b3)"
      ],
      "metadata": {
        "colab": {
          "base_uri": "https://localhost:8080/"
        },
        "id": "60flpPm0XhI0",
        "outputId": "b9fbdb28-2e73-44ec-e000-946667c2adff"
      },
      "execution_count": null,
      "outputs": [
        {
          "output_type": "stream",
          "name": "stdout",
          "text": [
            "10\n",
            "20\n",
            "130\n",
            "29\n",
            "89\n",
            "80\n",
            "58\n",
            "37\n",
            "117\n"
          ]
        }
      ]
    },
    {
      "cell_type": "code",
      "source": [
        "a=[[1,2,3],[4,5,6],[7,8,9]]\n",
        "b=[[3,5,7],[2,8,1],[9,4,6]]\n",
        "for i in range(len(a)):\n",
        "  for j in range(len(a)):\n",
        "    A=a[i][j]**2\n",
        "    B=b[i][j]**2\n",
        "    print(A+B)\n"
      ],
      "metadata": {
        "colab": {
          "base_uri": "https://localhost:8080/"
        },
        "id": "b06WcoTXXuNW",
        "outputId": "6174aa8d-6cb9-440d-f8a1-08601bf187ce"
      },
      "execution_count": null,
      "outputs": [
        {
          "output_type": "stream",
          "name": "stdout",
          "text": [
            "10\n",
            "29\n",
            "58\n",
            "20\n",
            "89\n",
            "37\n",
            "130\n",
            "80\n",
            "117\n"
          ]
        }
      ]
    },
    {
      "cell_type": "code",
      "source": [
        "#7 La potencia de las matrices\n",
        "a=[[1,2,3],[4,5,6],[7,8,9]]\n",
        "def Potencia(a,n):\n",
        "   for i in range(len(a)):\n",
        "     a[i]=a[i]**n\n",
        "   print(a)\n",
        "Potencia(a[0],2)\n",
        "Potencia(a[1],2)\n",
        "Potencia(a[2],2)\n",
        "\n",
        "b=[[3,5,7],[2,8.1],[9,4,6]]\n",
        "def Potencia(b,n):\n",
        "   for i in range(len(b)):\n",
        "     b[i]=b[i]**n\n",
        "   print(b)\n",
        "Potencia(b[0],2)\n",
        "Potencia(b[1],2)\n",
        "Potencia(b[2],2)"
      ],
      "metadata": {
        "id": "bBywvJzsDl3V",
        "colab": {
          "base_uri": "https://localhost:8080/"
        },
        "outputId": "4b10c7b9-1d8f-45e5-9c28-ec28e5e79fce"
      },
      "execution_count": null,
      "outputs": [
        {
          "output_type": "stream",
          "name": "stdout",
          "text": [
            "[1, 4, 9]\n",
            "[16, 25, 36]\n",
            "[49, 64, 81]\n",
            "[9, 25, 49]\n",
            "[4, 65.61]\n",
            "[81, 16, 36]\n"
          ]
        }
      ]
    }
  ]
}