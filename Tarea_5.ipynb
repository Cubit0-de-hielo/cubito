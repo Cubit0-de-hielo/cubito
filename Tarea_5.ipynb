{
  "nbformat": 4,
  "nbformat_minor": 0,
  "metadata": {
    "colab": {
      "provenance": [],
      "authorship_tag": "ABX9TyMqjpXSoBb7cAqqew9hLGjb",
      "include_colab_link": true
    },
    "kernelspec": {
      "name": "python3",
      "display_name": "Python 3"
    },
    "language_info": {
      "name": "python"
    }
  },
  "cells": [
    {
      "cell_type": "markdown",
      "metadata": {
        "id": "view-in-github",
        "colab_type": "text"
      },
      "source": [
        "<a href=\"https://colab.research.google.com/github/Cubit0-de-hielo/cubito/blob/main/Tarea_5.ipynb\" target=\"_parent\"><img src=\"https://colab.research.google.com/assets/colab-badge.svg\" alt=\"Open In Colab\"/></a>"
      ]
    },
    {
      "cell_type": "code",
      "source": [
        "n1 = 1\n",
        "n2 = 2\n",
        "n3 = 3\n",
        "n4 = 4\n",
        "n5 = 5\n",
        "sum = [11,2,3,4,5,n1,n2,n3,n4,n5]\n",
        "suma=0\n",
        "for x in (sum):\n",
        "  suma = suma+x\n",
        "resultado = suma/10\n",
        "print(resultado)"
      ],
      "metadata": {
        "colab": {
          "base_uri": "https://localhost:8080/"
        },
        "id": "ELkMrAyP61oJ",
        "outputId": "047b1765-c3bd-4fa8-ef0b-48dc4fdacf4c"
      },
      "execution_count": 3,
      "outputs": [
        {
          "output_type": "stream",
          "name": "stdout",
          "text": [
            "4.0\n"
          ]
        }
      ]
    },
    {
      "cell_type": "code",
      "source": [
        "lista = [31,40,182,11,8,19,9,82,89,21,42,54,894,891,98,89,189,.98,558,165,1892]\n",
        "print(max(lista))\n",
        "print(min(lista))"
      ],
      "metadata": {
        "colab": {
          "base_uri": "https://localhost:8080/"
        },
        "id": "HSekhZm7FiHW",
        "outputId": "f91cb9b4-563b-46e9-9308-b8f7eb24ec59"
      },
      "execution_count": 9,
      "outputs": [
        {
          "output_type": "stream",
          "name": "stdout",
          "text": [
            "1892\n",
            "0.98\n"
          ]
        }
      ]
    },
    {
      "cell_type": "code",
      "source": [
        "listado = [152,1,5,15,20,5,52,2,1,11,52,20,20,201,14,15]\n",
        "par_num = []\n",
        "impar_num = []\n",
        "for num in listado:\n",
        "  if (num % 2) == 0:\n",
        "    par_num.append(num)\n",
        "  else:\n",
        "    impar_num.append(num)\n",
        "print(\"Numeros pares\", par_num)\n",
        "print(\"Numeris impares\", impar_num)"
      ],
      "metadata": {
        "colab": {
          "base_uri": "https://localhost:8080/"
        },
        "id": "Rdv6xtxvGrbK",
        "outputId": "d9997e9e-f045-4899-fdbe-de6e712fa934"
      },
      "execution_count": 32,
      "outputs": [
        {
          "output_type": "stream",
          "name": "stdout",
          "text": [
            "Numeros pares [152, 20, 52, 2, 52, 20, 20, 14]\n",
            "Numeris impares [1, 5, 15, 5, 1, 11, 201, 15]\n"
          ]
        }
      ]
    }
  ]
}